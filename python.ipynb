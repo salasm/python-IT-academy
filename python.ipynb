{
 "cells": [
  {
   "cell_type": "code",
   "execution_count": null,
   "metadata": {},
   "outputs": [],
   "source": [
    "#Haremos una línea de comentario\n",
    "#Las variables son elementos que almacenan temporalmente un valor, se alojan en el kernel\n",
    "x = 5"
   ]
  },
  {
   "cell_type": "code",
   "execution_count": null,
   "metadata": {},
   "outputs": [],
   "source": [
    "#como ver un resultado, se ve en el output\n",
    "print(x)\n",
    "print(x + 3)"
   ]
  },
  {
   "cell_type": "code",
   "execution_count": null,
   "metadata": {},
   "outputs": [],
   "source": [
    "#Python es un lenguaje fuertemente equipado, distingue mayúsculas de minúsculas (case sensitive)\n",
    "X = 3\n",
    "print(x + X)"
   ]
  },
  {
   "cell_type": "code",
   "execution_count": null,
   "metadata": {},
   "outputs": [],
   "source": [
    "#Variables alfanuméricas (letras, números, caracteres), entre comillas dobles o simples\n",
    "dia = \"Lunes\"\n",
    "print(dia)"
   ]
  },
  {
   "cell_type": "code",
   "execution_count": null,
   "metadata": {},
   "outputs": [],
   "source": [
    "#Como concatenar valores con la función print\n",
    "print(\"Hoy es\", dia, \"y mañana martes\")"
   ]
  },
  {
   "cell_type": "code",
   "execution_count": null,
   "metadata": {},
   "outputs": [],
   "source": [
    "#como reasignar una variable, igual que asignar\n",
    "x = 8\n",
    "print(x)"
   ]
  },
  {
   "cell_type": "code",
   "execution_count": null,
   "metadata": {},
   "outputs": [],
   "source": [
    "#listas, tuplas y diccionarios\n",
    "#elementos que almacenan temporalmente varios valores\n",
    "semana = ['Lunes', 'Martes', 'Miércoles', 'Jueves', 25, 68]\n",
    "semana\n",
    "#diferencia entre lista [] y dupla () es que la dupla no se puede modificar en valor\n",
    "\n"
   ]
  },
  {
   "cell_type": "code",
   "execution_count": null,
   "metadata": {},
   "outputs": [],
   "source": [
    "semana[3]\n",
    "#las listas pueden cambiar de valores\n",
    "semana[0] = \"Domingo\"\n",
    "semana"
   ]
  },
  {
   "cell_type": "code",
   "execution_count": null,
   "metadata": {},
   "outputs": [],
   "source": [
    "#función len, nos da el número de caracteres de una variable\n",
    "len(dia)\n",
    "#número de caracters de un elemento de la lista\n",
    "len(semana[0])\n",
    "#len de una lista nos da el número de elementos de ésta\n",
    "len(semana)"
   ]
  },
  {
   "cell_type": "code",
   "execution_count": null,
   "metadata": {},
   "outputs": [],
   "source": [
    "#añadir un elemento a una lista, con append\n",
    "semana.append(\"Viernes\")\n",
    "semana"
   ]
  },
  {
   "cell_type": "code",
   "execution_count": null,
   "metadata": {},
   "outputs": [],
   "source": [
    "#para insertar un elemento, con .insert(posición o índice, valor a introducir en la lista)\n",
    "semana.insert(1, \"Lunes\")\n",
    "semana"
   ]
  },
  {
   "cell_type": "code",
   "execution_count": null,
   "metadata": {},
   "outputs": [],
   "source": [
    "#para ver cuántas veces está repetido un elemento, con la función count\n",
    "semana.count(\"Viernes\")"
   ]
  },
  {
   "cell_type": "code",
   "execution_count": null,
   "metadata": {},
   "outputs": [],
   "source": [
    "#eliminar el primer elemento que encuentra\n",
    "semana.remove(\"Lunes\")\n",
    "print(semana)"
   ]
  },
  {
   "cell_type": "code",
   "execution_count": null,
   "metadata": {},
   "outputs": [],
   "source": [
    "semana.append(\"Lunes\")\n",
    "semana"
   ]
  },
  {
   "cell_type": "code",
   "execution_count": null,
   "metadata": {},
   "outputs": [],
   "source": [
    "#Para eliminar valor según el índice\n",
    "del semana[1]\n",
    "semana"
   ]
  },
  {
   "cell_type": "code",
   "execution_count": null,
   "metadata": {},
   "outputs": [],
   "source": [
    "#ctrl + D te selecciona todas las variables iguales. si quieres cambiar el nombre escribes, copias, seleccionas la variabla a cambiar, ctrl+D y ctrl + V\n",
    "meses\n",
    "meses"
   ]
  },
  {
   "cell_type": "markdown",
   "metadata": {},
   "source": [
    "PRACTICA 1: CREAREMOS UNA LISTA LLAMADA MESES, QUE TENDRA LOS MESES DE ENERO A MAYO, MENOS EL ABRIL. DESPUÉS AÑADIREMOS JUNIO Y JULIO AL FINAL, INSERTAREMOS EL MES DE ABRIL EN SU SITIO CORRECTO, AÑADIREMOS 2 VECES MÁS AL FINAL FEBRERO, EN UNA VARIABLE ALMACENAREMOS EL NÚMERO DE VECES QUE ESTÁ EL MES DE FEBRERO, DESPUÉS ELIMINAREMOS LOS FEBREROS QUE SOBRAN Y EN UN TEXTO\n",
    "NOS TIENE QUE MOSTRAR CUANTAS VECES ESTABA EL MES DE FEBRERO."
   ]
  },
  {
   "cell_type": "code",
   "execution_count": null,
   "metadata": {},
   "outputs": [],
   "source": [
    "meses = ['Enero', 'Febrero', 'Marzo', 'Mayo']\n",
    "meses"
   ]
  },
  {
   "cell_type": "code",
   "execution_count": null,
   "metadata": {},
   "outputs": [],
   "source": [
    "meses.append('Junio')\n",
    "meses.append('Julio')\n",
    "meses"
   ]
  },
  {
   "cell_type": "code",
   "execution_count": null,
   "metadata": {},
   "outputs": [],
   "source": [
    "meses.insert(3, 'Abril')\n",
    "meses"
   ]
  },
  {
   "cell_type": "code",
   "execution_count": null,
   "metadata": {},
   "outputs": [],
   "source": [
    "meses.append('Febrero')\n",
    "meses.append('Febrero')\n",
    "meses"
   ]
  },
  {
   "cell_type": "code",
   "execution_count": null,
   "metadata": {},
   "outputs": [],
   "source": [
    "num_febrero = meses.count('Febrero')\n",
    "num_febrero\n",
    "                        "
   ]
  },
  {
   "cell_type": "code",
   "execution_count": null,
   "metadata": {},
   "outputs": [],
   "source": [
    "del meses[-2:]\n",
    "meses\n"
   ]
  },
  {
   "cell_type": "code",
   "execution_count": null,
   "metadata": {},
   "outputs": [],
   "source": [
    "print('Febrero estaba', num_febrero, 'veces')"
   ]
  },
  {
   "cell_type": "code",
   "execution_count": null,
   "metadata": {},
   "outputs": [],
   "source": [
    "#CORRECCIÓN\n",
    "meses = ['Enero', 'Febrero', 'Marzo', 'Mayo']\n",
    "print(meses)\n",
    "print() #línea en blanco\n",
    "meses.append('Junio')\n",
    "print(meses)\n",
    "meses.append('Julio')\n",
    "print(meses)\n",
    "meses.insert(3, 'Abril')\n",
    "print(meses)\n",
    "meses.append('Febrero')\n",
    "print(meses)\n",
    "meses.append('Febrero')\n",
    "print(meses)\n",
    "numero_febrero = meses.count('Febrero')\n",
    "print(numero_febrero)\n",
    "#Eliminar\n",
    "del meses[7:]\n",
    "print(meses)\n",
    "print('El número de veces de febrero es', numero_febrero)"
   ]
  },
  {
   "cell_type": "code",
   "execution_count": null,
   "metadata": {},
   "outputs": [],
   "source": [
    "#Lista numérica\n",
    "numeros = [15, 24, 78, 63]\n",
    "numeros\n"
   ]
  },
  {
   "cell_type": "code",
   "execution_count": null,
   "metadata": {},
   "outputs": [],
   "source": [
    "numeros2 = range(5)\n",
    "numeros2 \n",
    "list(numeros2)\n"
   ]
  },
  {
   "cell_type": "markdown",
   "metadata": {},
   "source": [
    "El range si solo va un número, genera una lista que empieza por 0 y se autoincrementa en 1. "
   ]
  },
  {
   "cell_type": "code",
   "execution_count": null,
   "metadata": {},
   "outputs": [],
   "source": [
    "numeros3 = range(10, 26, 2) # número final no se añade, step 2 crea una lista que salta de 2 en 2 valores.\n",
    "list(numeros3)"
   ]
  },
  {
   "cell_type": "code",
   "execution_count": null,
   "metadata": {},
   "outputs": [],
   "source": [
    "numeros4 = range(32, 10, -2) \n",
    "list(numeros4)"
   ]
  },
  {
   "cell_type": "code",
   "execution_count": null,
   "metadata": {},
   "outputs": [],
   "source": [
    "#Funciones de resumen sobre listas numericas\n",
    "sum(numeros3) # sumar los valores de la lista\n",
    "max(numeros3) # Ver el valor más grande\n",
    "min(numeros3) # Ver el valor más pequeño"
   ]
  },
  {
   "cell_type": "markdown",
   "metadata": {},
   "source": [
    "El bucle, es un código que se repite hasta que se cumple una condición dada. 2 tipos: finitos e infinitos. El finito tiene un número determinado de repeticiones o iteraciones. El infinito se tiene que dar una condición, si una variable no tiene el valor determinado, el bucle no se detiene nunca."
   ]
  },
  {
   "cell_type": "code",
   "execution_count": null,
   "metadata": {},
   "outputs": [],
   "source": [
    "for i in numeros:\n",
    "    print(i)\n",
    "print('terminado con éxito')\n"
   ]
  },
  {
   "cell_type": "code",
   "execution_count": null,
   "metadata": {},
   "outputs": [],
   "source": [
    "iter = 1\n",
    "for i in [15, 26, 73]:\n",
    "    print(iter)\n",
    "    print(i)\n",
    "    iter = iter + 1  #contador\n",
    "    iter += 1 "
   ]
  },
  {
   "cell_type": "code",
   "execution_count": 33,
   "metadata": {},
   "outputs": [
    {
     "name": "stdout",
     "output_type": "stream",
     "text": [
      "el 1 mes del año es Enero\n",
      "el 2 mes del año es Febrero\n",
      "el 3 mes del año es Marzo\n",
      "el 4 mes del año es Abril\n",
      "el 5 mes del año es Mayo\n",
      "el 6 mes del año es Junio\n",
      "el 7 mes del año es Julio\n"
     ]
    }
   ],
   "source": [
    "iter = 1\n",
    "for mes in meses:\n",
    "    print(\"el\", iter, \"mes del año es\", mes)\n",
    "    iter += 1"
   ]
  },
  {
   "cell_type": "markdown",
   "metadata": {},
   "source": [
    "PRÁCTICA 2: CREAR UNA LISTA CON LOS MESES DE ENERO A DICIEMBRE Y MEDIANTE UN BUCLE FOR IMPRIMIR LOS MESES PONIENDO EL NÚMERO DE ORDEN DELANTE, \n",
    "SÓLO IMPRIMIR LOS MESES PARES.\n",
    "LO MISMO PERO QUE EL TEXTO PONGA EL PRIMER MES DEL AÑO ES ENERO, EL SEGUNDO ES FEBRERO"
   ]
  },
  {
   "cell_type": "code",
   "execution_count": 70,
   "metadata": {},
   "outputs": [
    {
     "name": "stdout",
     "output_type": "stream",
     "text": [
      "1\n",
      "3\n",
      "5\n",
      "7\n",
      "9\n",
      "11\n",
      "\n",
      "2 Febrero\n",
      "4 Abril\n",
      "6 Junio\n",
      "8 Agosto\n",
      "10 Octubre\n",
      "12 Diciembre\n",
      "\n",
      "El segundo mes es Febrero\n",
      "El cuarto mes es Abril\n",
      "El sexto mes es Junio\n",
      "El octavo mes es Agosto\n",
      "El décimo mes es Octubre\n",
      "El duodécimo mes es Diciembre\n",
      "\n",
      "D\n",
      "o\n",
      "m\n",
      "i\n",
      "n\n",
      "g\n",
      "o\n"
     ]
    }
   ],
   "source": [
    "meses = ['Enero', 'Febrero', 'Marzo', 'Abril', 'Mayo', 'Junio', 'Julio', 'Agosto', 'Septiembre', 'Octubre', 'Noviembre', 'Diciembre']\n",
    "cardinal = ['primero', 'segundo', 'tercero', 'cuarto', 'quinto', 'sexto', 'séptimo', 'octavo', 'noveno', 'décimo', 'undécimo', 'duodécimo']\n",
    "for i in range(1, 13, 2):\n",
    "    print(i)\n",
    "\n",
    "print()\n",
    "\n",
    "for i in range(1, 13, 2):\n",
    "    print(i+1, meses[i])\n",
    "\n",
    "print()\n",
    "\n",
    "\n",
    "for i in [1, 3, 5, 7, 9, 11]:\n",
    "    print('El', cardinal[i], 'mes es', meses[i])\n",
    "\n",
    "print()\n",
    "palabra = 'Domingo'\n",
    "for letra in palabra:\n",
    "    print(letra)"
   ]
  },
  {
   "cell_type": "code",
   "execution_count": 76,
   "metadata": {},
   "outputs": [
    {
     "data": {
      "text/plain": [
       "False"
      ]
     },
     "execution_count": 76,
     "metadata": {},
     "output_type": "execute_result"
    }
   ],
   "source": [
    "8 > 4\n",
    "8 == 12"
   ]
  },
  {
   "cell_type": "code",
   "execution_count": 79,
   "metadata": {},
   "outputs": [
    {
     "name": "stdout",
     "output_type": "stream",
     "text": [
      "1\n",
      "2\n",
      "3\n",
      "4\n",
      "5\n",
      "6\n",
      "7\n",
      "8\n",
      "9\n",
      "10\n",
      "11\n",
      "12\n"
     ]
    }
   ],
   "source": [
    "for i in range(len(meses)):\n",
    "    print(i+1)"
   ]
  }
 ],
 "metadata": {
  "kernelspec": {
   "display_name": "Python 3",
   "language": "python",
   "name": "python3"
  },
  "language_info": {
   "codemirror_mode": {
    "name": "ipython",
    "version": 3
   },
   "file_extension": ".py",
   "mimetype": "text/x-python",
   "name": "python",
   "nbconvert_exporter": "python",
   "pygments_lexer": "ipython3",
   "version": "3.12.5"
  }
 },
 "nbformat": 4,
 "nbformat_minor": 2
}
